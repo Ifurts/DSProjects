{
 "cells": [
  {
   "cell_type": "code",
   "execution_count": 1,
   "id": "8690f9ab-9fe8-478e-9f12-9e6ff1439c87",
   "metadata": {},
   "outputs": [],
   "source": [
    "import numpy as np\n",
    "import sys"
   ]
  },
  {
   "cell_type": "code",
   "execution_count": 2,
   "id": "eea22687-475d-45af-82f1-249978b2f52a",
   "metadata": {},
   "outputs": [],
   "source": [
    "a = np.array([[2,3,4,5], [6,7,8,9]])\n",
    "b= np.array([[2,3,4,5], [6,7,8,9]])"
   ]
  },
  {
   "cell_type": "code",
   "execution_count": 3,
   "id": "867c3f6d-51eb-47d0-ba53-3894fac11752",
   "metadata": {},
   "outputs": [
    {
     "name": "stdout",
     "output_type": "stream",
     "text": [
      "[[ 4  6  8 10]\n",
      " [12 14 16 18]]\n"
     ]
    }
   ],
   "source": [
    "result = np.add(a,b)\n",
    "print(result)"
   ]
  },
  {
   "cell_type": "code",
   "execution_count": 15,
   "id": "21aea2f3-f41b-4c54-9a39-01c2b96b7866",
   "metadata": {},
   "outputs": [
    {
     "data": {
      "text/plain": [
       "10"
      ]
     },
     "execution_count": 15,
     "metadata": {},
     "output_type": "execute_result"
    }
   ],
   "source": [
    "#array [row, column] achar a localizacao num array 2d, lebrar que comeca sempre pelo row or column 0\n",
    "result[0,3]"
   ]
  },
  {
   "cell_type": "code",
   "execution_count": 17,
   "id": "99b8d05a-0dac-414e-9ea6-656a39d425a5",
   "metadata": {},
   "outputs": [
    {
     "data": {
      "text/plain": [
       "array([ 4,  6,  8, 10])"
      ]
     },
     "execution_count": 17,
     "metadata": {},
     "output_type": "execute_result"
    }
   ],
   "source": [
    "result [0, :]\n",
    "\n",
    "#o simbolo : vai retornar tudos os dados contidos na column"
   ]
  }
 ],
 "metadata": {
  "kernelspec": {
   "display_name": "Python 3 (ipykernel)",
   "language": "python",
   "name": "python3"
  },
  "language_info": {
   "codemirror_mode": {
    "name": "ipython",
    "version": 3
   },
   "file_extension": ".py",
   "mimetype": "text/x-python",
   "name": "python",
   "nbconvert_exporter": "python",
   "pygments_lexer": "ipython3",
   "version": "3.10.9"
  }
 },
 "nbformat": 4,
 "nbformat_minor": 5
}
